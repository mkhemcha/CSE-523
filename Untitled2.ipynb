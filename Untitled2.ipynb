{
 "cells": [
  {
   "cell_type": "code",
   "execution_count": 12,
   "metadata": {},
   "outputs": [
    {
     "name": "stdout",
     "output_type": "stream",
     "text": [
      "somersettlondon\n"
     ]
    }
   ],
   "source": [
    "import numpy as np\n",
    "import itertools\n",
    "from autocorrect import spell\n",
    "str=\"thanksssssssssss\"\n",
    "tweet=\"“I love my <3 iphone & you are awesome apple. Display Is Awesome, sooooo happyyyyyyyyy\"\n",
    "str = ''.join(''.join(s)[:2] for _, s in itertools.groupby(str))\n",
    "print(spell(\"somersettlondon\"))"
   ]
  },
  {
   "cell_type": "code",
   "execution_count": 51,
   "metadata": {},
   "outputs": [
    {
     "name": "stdout",
     "output_type": "stream",
     "text": [
      "[[1.41421356 2.82842712 4.24264069 5.65685425 0.        ]]\n",
      "[4]\n",
      "1\n",
      "5.656854249492381\n",
      "[[0 1 2 3 4]]\n"
     ]
    }
   ],
   "source": [
    "from scipy.spatial import KDTree\n",
    "import numpy as np\n",
    "y=[[1,1],[2,2],[3,3],[4,4]]\n",
    "x=[0,0]\n",
    "\n",
    "tree = KDTree(y)\n",
    "distances, ndx = tree.query([x], k=5)\n",
    "distances[np.isposinf(distances)] = 0\n",
    "k=np.where(distances==0.0)\n",
    "temp=distances.tolist()\n",
    "print(distances)\n",
    "print(k[1])\n",
    "print(len(k[1]))\n",
    "print(temp[0][k[1][0]-1])\n",
    "print(ndx)"
   ]
  },
  {
   "cell_type": "code",
   "execution_count": 57,
   "metadata": {},
   "outputs": [
    {
     "name": "stdout",
     "output_type": "stream",
     "text": [
      "['buckingham palace', 'court', 'palace']\n"
     ]
    },
    {
     "data": {
      "text/plain": [
       "False"
      ]
     },
     "execution_count": 57,
     "metadata": {},
     "output_type": "execute_result"
    }
   ],
   "source": [
    "def wordBreak(s, dict):\n",
    "    sLen = len(s)\n",
    "    possible = [False for i in range(sLen + 1)]\n",
    "    possible[0] = True\n",
    "\n",
    "    for i in range(sLen):\n",
    "        for j in range(i + 1):\n",
    "            if possible[j] and s[j:i + 1] in dict:\n",
    "                possible[i + 1] = True\n",
    "                break\n",
    "\n",
    "    return possible[sLen]\n",
    "\n",
    "s = \"hampton\"\n",
    "dict = [\"Buckingham Palace\", \"court\",\"palace\"]\n",
    "dict=[word.lower() for word in dict]\n",
    "print(dict)\n",
    "wordBreak(s,dict)"
   ]
  },
  {
   "cell_type": "code",
   "execution_count": 2,
   "metadata": {},
   "outputs": [
    {
     "data": {
      "text/plain": [
       "1"
      ]
     },
     "execution_count": 2,
     "metadata": {},
     "output_type": "execute_result"
    }
   ],
   "source": [
    "import nltk\n",
    "nltk.edit_distance(\"humpty\", \"dumpty\")"
   ]
  },
  {
   "cell_type": "code",
   "execution_count": 8,
   "metadata": {},
   "outputs": [
    {
     "data": {
      "text/plain": [
       "3"
      ]
     },
     "execution_count": 8,
     "metadata": {},
     "output_type": "execute_result"
    }
   ],
   "source": [
    "nltk.edit_distance(\"humpty\", \"hmpd\")"
   ]
  },
  {
   "cell_type": "code",
   "execution_count": 4,
   "metadata": {
    "collapsed": true
   },
   "outputs": [],
   "source": [
    "string_array=\"This is a string test\".split()"
   ]
  },
  {
   "cell_type": "code",
   "execution_count": 6,
   "metadata": {},
   "outputs": [
    {
     "data": {
      "text/plain": [
       "'This'"
      ]
     },
     "execution_count": 6,
     "metadata": {},
     "output_type": "execute_result"
    }
   ],
   "source": [
    "string_array[0]"
   ]
  },
  {
   "cell_type": "code",
   "execution_count": 10,
   "metadata": {},
   "outputs": [
    {
     "data": {
      "text/plain": [
       "'This is a string test'"
      ]
     },
     "execution_count": 10,
     "metadata": {},
     "output_type": "execute_result"
    }
   ],
   "source": [
    "' '.join(string_array)"
   ]
  },
  {
   "cell_type": "code",
   "execution_count": null,
   "metadata": {
    "collapsed": true
   },
   "outputs": [],
   "source": []
  }
 ],
 "metadata": {
  "kernelspec": {
   "display_name": "Python 3",
   "language": "python",
   "name": "python3"
  },
  "language_info": {
   "codemirror_mode": {
    "name": "ipython",
    "version": 3
   },
   "file_extension": ".py",
   "mimetype": "text/x-python",
   "name": "python",
   "nbconvert_exporter": "python",
   "pygments_lexer": "ipython3",
   "version": "3.6.1"
  }
 },
 "nbformat": 4,
 "nbformat_minor": 2
}
